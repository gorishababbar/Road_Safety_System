{
  "metadata": {
    "kernelspec": {
      "language": "python",
      "display_name": "Python 3",
      "name": "python3"
    },
    "language_info": {
      "name": "python",
      "version": "3.10.13",
      "mimetype": "text/x-python",
      "codemirror_mode": {
        "name": "ipython",
        "version": 3
      },
      "pygments_lexer": "ipython3",
      "nbconvert_exporter": "python",
      "file_extension": ".py"
    },
    "kaggle": {
      "accelerator": "nvidiaTeslaT4",
      "dataSources": [
        {
          "sourceId": 170620,
          "sourceType": "datasetVersion",
          "datasetId": 75548
        },
        {
          "sourceId": 7408193,
          "sourceType": "datasetVersion",
          "datasetId": 2491957
        }
      ],
      "dockerImageVersionId": 30699,
      "isInternetEnabled": true,
      "language": "python",
      "sourceType": "notebook",
      "isGpuEnabled": true
    },
    "colab": {
      "name": "VGG16 - IIIT-A (ConvLSTM)",
      "provenance": []
    }
  },
  "nbformat_minor": 0,
  "nbformat": 4,
  "cells": [
    {
      "source": [
        "# IMPORTANT: RUN THIS CELL IN ORDER TO IMPORT YOUR KAGGLE DATA SOURCES,\n",
        "# THEN FEEL FREE TO DELETE THIS CELL.\n",
        "# NOTE: THIS NOTEBOOK ENVIRONMENT DIFFERS FROM KAGGLE'S PYTHON\n",
        "# ENVIRONMENT SO THERE MAY BE MISSING LIBRARIES USED BY YOUR\n",
        "# NOTEBOOK.\n",
        "import kagglehub\n",
        "organizations_mission_ai_crimeucfdataset_path = kagglehub.dataset_download('organizations/mission-ai/crimeucfdataset')\n",
        "\n",
        "print('Data source import complete.')\n"
      ],
      "metadata": {
        "id": "9Aphps7Eg93k"
      },
      "cell_type": "code",
      "outputs": [],
      "execution_count": null
    },
    {
      "cell_type": "code",
      "source": [
        "!pip install torchsummary"
      ],
      "metadata": {
        "execution": {
          "iopub.status.busy": "2024-05-24T18:54:22.874571Z",
          "iopub.execute_input": "2024-05-24T18:54:22.874817Z",
          "iopub.status.idle": "2024-05-24T18:54:36.216386Z",
          "shell.execute_reply.started": "2024-05-24T18:54:22.874794Z",
          "shell.execute_reply": "2024-05-24T18:54:36.215255Z"
        },
        "trusted": true,
        "id": "TAbaacHMg93o"
      },
      "execution_count": null,
      "outputs": []
    },
    {
      "cell_type": "code",
      "source": [
        "import numpy as np\n",
        "import pandas as pd\n",
        "import matplotlib.pyplot as plt\n",
        "import torch\n",
        "import torch.nn as nn\n",
        "import torch.optim as optim\n",
        "import torch.nn.functional as F\n",
        "from torch.utils.data import DataLoader\n",
        "from torch.utils.data import Dataset\n",
        "import torchvision.datasets as datasets\n",
        "import torchvision.transforms as transforms\n",
        "from torchsummary import summary\n",
        "import warnings\n",
        "import os\n",
        "import sys\n",
        "from tqdm import tqdm\n",
        "import cv2"
      ],
      "metadata": {
        "_uuid": "8f2839f25d086af736a60e9eeb907d3b93b6e0e5",
        "_cell_guid": "b1076dfc-b9ad-4769-8c92-a6c4dae69d19",
        "execution": {
          "iopub.status.busy": "2024-05-24T18:55:01.951782Z",
          "iopub.execute_input": "2024-05-24T18:55:01.952119Z",
          "iopub.status.idle": "2024-05-24T18:55:08.82821Z",
          "shell.execute_reply.started": "2024-05-24T18:55:01.952091Z",
          "shell.execute_reply": "2024-05-24T18:55:08.82744Z"
        },
        "trusted": true,
        "id": "HqwV6yn3g93p"
      },
      "execution_count": null,
      "outputs": []
    },
    {
      "cell_type": "code",
      "source": [
        "device = torch.device('cuda' if torch.cuda.is_available() else 'cpu')\n",
        "device"
      ],
      "metadata": {
        "execution": {
          "iopub.status.busy": "2024-05-24T18:55:08.830004Z",
          "iopub.execute_input": "2024-05-24T18:55:08.83074Z",
          "iopub.status.idle": "2024-05-24T18:55:08.887022Z",
          "shell.execute_reply.started": "2024-05-24T18:55:08.830706Z",
          "shell.execute_reply": "2024-05-24T18:55:08.885934Z"
        },
        "trusted": true,
        "id": "vknAZL1ag93q"
      },
      "execution_count": null,
      "outputs": []
    },
    {
      "cell_type": "code",
      "source": [
        "RESOLUTION = 224"
      ],
      "metadata": {
        "execution": {
          "iopub.status.busy": "2024-05-24T18:55:08.888241Z",
          "iopub.execute_input": "2024-05-24T18:55:08.888564Z",
          "iopub.status.idle": "2024-05-24T18:55:08.895611Z",
          "shell.execute_reply.started": "2024-05-24T18:55:08.888532Z",
          "shell.execute_reply": "2024-05-24T18:55:08.894774Z"
        },
        "trusted": true,
        "id": "67b_SCY8g93q"
      },
      "execution_count": null,
      "outputs": []
    },
    {
      "cell_type": "code",
      "source": [
        "warnings.filterwarnings( \"ignore\", module = \"matplotlib\\..*\" )"
      ],
      "metadata": {
        "execution": {
          "iopub.status.busy": "2024-05-24T18:55:08.897516Z",
          "iopub.execute_input": "2024-05-24T18:55:08.898129Z",
          "iopub.status.idle": "2024-05-24T18:55:08.902876Z",
          "shell.execute_reply.started": "2024-05-24T18:55:08.898095Z",
          "shell.execute_reply": "2024-05-24T18:55:08.901982Z"
        },
        "trusted": true,
        "id": "d1phRL8lg93q"
      },
      "execution_count": null,
      "outputs": []
    },
    {
      "cell_type": "code",
      "source": [
        "transformer = transforms.Compose([\n",
        "    transforms.ToTensor(),\n",
        "    transforms.Normalize(mean=[0.5], std=[0.5]),\n",
        "    # transforms.Lambda(lambda x: x / 255.),\n",
        "    transforms.Resize((RESOLUTION, RESOLUTION))\n",
        "])"
      ],
      "metadata": {
        "execution": {
          "iopub.status.busy": "2024-05-24T18:55:11.042815Z",
          "iopub.execute_input": "2024-05-24T18:55:11.043196Z",
          "iopub.status.idle": "2024-05-24T18:55:11.048829Z",
          "shell.execute_reply.started": "2024-05-24T18:55:11.043165Z",
          "shell.execute_reply": "2024-05-24T18:55:11.047679Z"
        },
        "trusted": true,
        "id": "xLvbjyeog93q"
      },
      "execution_count": null,
      "outputs": []
    },
    {
      "cell_type": "code",
      "source": [
        "def plot_image_from_list(__images, __labels, __count):\n",
        "    plt.figure(figsize=(10, 10))\n",
        "    for _i in range(__count[0] * __count[1]):\n",
        "        plt.subplot(__count[0], __count[1], _i + 1)\n",
        "        plt.xticks([])\n",
        "        plt.yticks([])\n",
        "        plt.grid(False)\n",
        "        _img = __images[_i].to(\"cpu\").numpy()\n",
        "        plt.imshow(_img, cmap= \"gray\")\n",
        "        plt.xlabel(__labels[_i])\n",
        "    plt.show()"
      ],
      "metadata": {
        "execution": {
          "iopub.status.busy": "2024-05-24T18:55:12.401956Z",
          "iopub.execute_input": "2024-05-24T18:55:12.40278Z",
          "iopub.status.idle": "2024-05-24T18:55:12.409Z",
          "shell.execute_reply.started": "2024-05-24T18:55:12.402746Z",
          "shell.execute_reply": "2024-05-24T18:55:12.407856Z"
        },
        "trusted": true,
        "id": "si-EMXGrg93r"
      },
      "execution_count": null,
      "outputs": []
    },
    {
      "cell_type": "code",
      "source": [
        "def plot_randomly_form_dataset(__dataset):\n",
        "    images = []\n",
        "    labels = []\n",
        "    for _ in range(0, 25):\n",
        "        index = torch.randint(0, len(__dataset), (1,)).item()\n",
        "        image, label = __dataset[index]\n",
        "        images.append(image.squeeze())\n",
        "        labels.append(__dataset.label_id2str(label.item()))\n",
        "\n",
        "    plot_image_from_list(images, labels, (5, 5))\n",
        ""
      ],
      "metadata": {
        "execution": {
          "iopub.status.busy": "2024-05-24T18:55:12.762558Z",
          "iopub.execute_input": "2024-05-24T18:55:12.763229Z",
          "iopub.status.idle": "2024-05-24T18:55:12.768916Z",
          "shell.execute_reply.started": "2024-05-24T18:55:12.763201Z",
          "shell.execute_reply": "2024-05-24T18:55:12.767896Z"
        },
        "trusted": true,
        "id": "KczJDsKEg93r"
      },
      "execution_count": null,
      "outputs": []
    },
    {
      "cell_type": "code",
      "source": [
        "def plot_randomly_form_dataset_model(__dataset, __model):\n",
        "    images = []\n",
        "    labels = []\n",
        "    for _ in range(0, 25):\n",
        "        index = torch.randint(0, len(__dataset), (1,)).item()\n",
        "        image, label = __dataset[index]\n",
        "        images.append(image.squeeze())\n",
        "        result = model(image.unsqueeze(dim=0).to(device)).squeeze().cpu().argmax()\n",
        "\n",
        "        labels.append(__dataset.label_id2str(label.item()) + \" -> \" + __dataset.label_id2str(result.item()))\n",
        "\n",
        "    plot_image_from_list(images, labels, (5, 5))\n",
        ""
      ],
      "metadata": {
        "execution": {
          "iopub.status.busy": "2024-05-24T18:55:14.122757Z",
          "iopub.execute_input": "2024-05-24T18:55:14.123383Z",
          "iopub.status.idle": "2024-05-24T18:55:14.129998Z",
          "shell.execute_reply.started": "2024-05-24T18:55:14.123349Z",
          "shell.execute_reply": "2024-05-24T18:55:14.12888Z"
        },
        "trusted": true,
        "id": "m7gIe56sg93r"
      },
      "execution_count": null,
      "outputs": []
    },
    {
      "cell_type": "code",
      "source": [
        "DATA_SOURCE = {\n",
        "    \"Abuse\": \"/kaggle/input/crimeucfdataset/Anomaly_Dataset/Anomaly_Videos/Anomaly-Videos-Part-1/Abuse\",\n",
        "    \"Arrest\": \"/kaggle/input/crimeucfdataset/Anomaly_Dataset/Anomaly_Videos/Anomaly-Videos-Part-1/Arrest\",\n",
        "    \"Arson\": \"/kaggle/input/crimeucfdataset/Anomaly_Dataset/Anomaly_Videos/Anomaly-Videos-Part-1/Arson\",\n",
        "    \"Assault\": \"/kaggle/input/crimeucfdataset/Anomaly_Dataset/Anomaly_Videos/Anomaly-Videos-Part-1/Assault\",\n",
        "    \"Burglary\": \"/kaggle/input/crimeucfdataset/Anomaly_Dataset/Anomaly_Videos/Anomaly-Videos-Part-2/Burglary\",\n",
        "    \"Explosion\": \"/kaggle/input/crimeucfdataset/Anomaly_Dataset/Anomaly_Videos/Anomaly-Videos-Part-2/Explosion\",\n",
        "    \"Fighting\": \"/kaggle/input/crimeucfdataset/Anomaly_Dataset/Anomaly_Videos/Anomaly-Videos-Part-2/Fighting\",\n",
        "    \"Normal\": \"/kaggle/input/crimeucfdataset/Anomaly_Dataset/Anomaly_Videos/Normal-Videos-Part-1\"\n",
        "}"
      ],
      "metadata": {
        "execution": {
          "iopub.status.busy": "2024-05-24T18:55:15.049352Z",
          "iopub.execute_input": "2024-05-24T18:55:15.049772Z",
          "iopub.status.idle": "2024-05-24T18:55:15.056044Z",
          "shell.execute_reply.started": "2024-05-24T18:55:15.04974Z",
          "shell.execute_reply": "2024-05-24T18:55:15.054967Z"
        },
        "trusted": true,
        "id": "eJiCF8S_g93s"
      },
      "execution_count": null,
      "outputs": []
    },
    {
      "cell_type": "code",
      "source": [
        "class CrimeDataset(Dataset):\n",
        "    def __init__(self, __train=True, __tain_test_split=0.8, __random_state=42):\n",
        "        torch.manual_seed(__random_state)\n",
        "\n",
        "        self._data = []\n",
        "        self._labels = []\n",
        "        self._inclusion_probability = __tain_test_split if __train else 1.0 - __tain_test_split\n",
        "        self._frame_interval = 30\n",
        "\n",
        "        print(f\"Loading {'train' if __train else 'test' } dataset...\")\n",
        "        for label, data_path in DATA_SOURCE.items():\n",
        "            print(f\"Loading Label {label}...\")\n",
        "            for file in tqdm(os.listdir(data_path)):\n",
        "                if file.endswith(\".mp4\") and torch.rand(1).item() <= self._inclusion_probability:\n",
        "                    path = os.path.join(data_path, file)\n",
        "                    data, labels = self._parse_file(path, label)\n",
        "                    self._data.extend(data)\n",
        "                    self._labels.extend(labels)\n",
        "        print(f\"Finished loading {'train' if __train else 'test' } dataset... Loaded  {len(self._data)} images.\")\n",
        "\n",
        "    def _parse_file(self, __path, __label):\n",
        "        if not os.path.exists(__path):\n",
        "            return [], []\n",
        "\n",
        "        data = []\n",
        "        labels = []\n",
        "\n",
        "        cap = cv2.VideoCapture(__path)\n",
        "\n",
        "        success, image = cap.read()\n",
        "        while success:\n",
        "            try:\n",
        "                if True:\n",
        "                    image = cv2.cvtColor(image, cv2.COLOR_BGR2YUV)\n",
        "                    Y, U, V = cv2.split(image)\n",
        "                    image = transformer(Y)\n",
        "                    data.append(image)\n",
        "                    labels.append(__label)\n",
        "            except Exception as e:\n",
        "                print(f\"Error loading file {__path}: {e}\")\n",
        "\n",
        "            count = 0\n",
        "            while success and count < self._frame_interval:\n",
        "                success, image = cap.read()\n",
        "                count += 1\n",
        "        return data, labels\n",
        "\n",
        "\n",
        "    def label_str2id(self, __label):\n",
        "        labels = DATA_SOURCE.keys()\n",
        "        return list(labels).index(__label)\n",
        "\n",
        "    def label_id2str(self, __label):\n",
        "        labels = DATA_SOURCE.keys()\n",
        "        return list(labels)[__label]\n",
        "\n",
        "    def __len__(self):\n",
        "        return len(self._labels)\n",
        "\n",
        "    def __getitem__(self, __idx):\n",
        "        data = self._data[__idx]\n",
        "        label = self._labels[__idx]\n",
        "        return data, torch.tensor([self.label_str2id(label)])"
      ],
      "metadata": {
        "execution": {
          "iopub.status.busy": "2024-05-24T18:55:21.101607Z",
          "iopub.execute_input": "2024-05-24T18:55:21.10197Z",
          "iopub.status.idle": "2024-05-24T18:55:21.117905Z",
          "shell.execute_reply.started": "2024-05-24T18:55:21.101942Z",
          "shell.execute_reply": "2024-05-24T18:55:21.116835Z"
        },
        "trusted": true,
        "id": "jjVj0hShg93s"
      },
      "execution_count": null,
      "outputs": []
    },
    {
      "cell_type": "code",
      "source": [
        "train_dataset = CrimeDataset(True)\n",
        "test_dataset = CrimeDataset(False)"
      ],
      "metadata": {
        "execution": {
          "iopub.status.busy": "2024-05-24T18:55:22.941657Z",
          "iopub.execute_input": "2024-05-24T18:55:22.942418Z",
          "iopub.status.idle": "2024-05-24T19:10:27.089623Z",
          "shell.execute_reply.started": "2024-05-24T18:55:22.942388Z",
          "shell.execute_reply": "2024-05-24T19:10:27.088661Z"
        },
        "trusted": true,
        "id": "9TkO_Gpsg93s"
      },
      "execution_count": null,
      "outputs": []
    },
    {
      "cell_type": "code",
      "source": [
        "plot_randomly_form_dataset(test_dataset)"
      ],
      "metadata": {
        "execution": {
          "iopub.status.busy": "2024-05-24T19:10:38.745289Z",
          "iopub.execute_input": "2024-05-24T19:10:38.7461Z",
          "iopub.status.idle": "2024-05-24T19:10:40.070283Z",
          "shell.execute_reply.started": "2024-05-24T19:10:38.746071Z",
          "shell.execute_reply": "2024-05-24T19:10:40.069357Z"
        },
        "trusted": true,
        "id": "2isUTpwGg93s"
      },
      "execution_count": null,
      "outputs": []
    },
    {
      "cell_type": "code",
      "source": [
        "train_loader = DataLoader(train_dataset, batch_size=128, shuffle=True)\n",
        "test_loader = DataLoader(test_dataset, batch_size=128, shuffle=True)"
      ],
      "metadata": {
        "execution": {
          "iopub.status.busy": "2024-05-24T19:10:50.793905Z",
          "iopub.execute_input": "2024-05-24T19:10:50.794851Z",
          "iopub.status.idle": "2024-05-24T19:10:50.800846Z",
          "shell.execute_reply.started": "2024-05-24T19:10:50.794813Z",
          "shell.execute_reply": "2024-05-24T19:10:50.799754Z"
        },
        "trusted": true,
        "id": "jeZnDu93g93s"
      },
      "execution_count": null,
      "outputs": []
    },
    {
      "cell_type": "code",
      "source": [
        "num_classes = 8"
      ],
      "metadata": {
        "execution": {
          "iopub.status.busy": "2024-05-24T19:16:21.269905Z",
          "iopub.execute_input": "2024-05-24T19:16:21.270832Z",
          "iopub.status.idle": "2024-05-24T19:16:21.274856Z",
          "shell.execute_reply.started": "2024-05-24T19:16:21.270788Z",
          "shell.execute_reply": "2024-05-24T19:16:21.27395Z"
        },
        "trusted": true,
        "id": "AWpnjeFGg93s"
      },
      "execution_count": null,
      "outputs": []
    },
    {
      "cell_type": "code",
      "source": [
        "class CrimeModelCNN(nn.Module):\n",
        "    def __init__(self):\n",
        "        super(CrimeModelCNN, self).__init__()\n",
        "        self.conv1 = nn.Conv2d(1, 64, kernel_size=3, padding=\"same\")\n",
        "        self.leaky_relu = nn.LeakyReLU(0.1)\n",
        "        self.max_pool1 = nn.MaxPool2d(2, 2)\n",
        "        self.dropout1 = nn.Dropout(0.25)\n",
        "        self.conv2 = nn.Conv2d(64, 128, kernel_size=3, padding=\"same\")\n",
        "        self.max_pool2 = nn.MaxPool2d(2, 2)\n",
        "        self.dropout2 = nn.Dropout(0.25)\n",
        "        self.conv3 = nn.Conv2d(128, 256, kernel_size=3, padding=\"same\")\n",
        "        self.max_pool3 = nn.MaxPool2d(2, 2)\n",
        "        self.dropout3 = nn.Dropout(0.4)\n",
        "        self.flatten = nn.Flatten()\n",
        "        self.fc1 = nn.Linear(28 * 28 * 256, 256)\n",
        "        self.dropout4 = nn.Dropout(0.5)\n",
        "\n",
        "    def forward(self, x):\n",
        "        x = self.conv1(x)\n",
        "        x = self.leaky_relu(x)\n",
        "        x = self.max_pool1(x)\n",
        "        x = self.dropout1(x)\n",
        "        x = self.conv2(x)\n",
        "        x = self.leaky_relu(x)\n",
        "        x = self.max_pool2(x)\n",
        "        x = self.dropout2(x)\n",
        "        x = self.conv3(x)\n",
        "        x = self.leaky_relu(x)\n",
        "        x = self.max_pool3(x)\n",
        "        x = self.dropout3(x)\n",
        "        x = self.flatten(x)\n",
        "        x = self.fc1(x)\n",
        "        x = self.leaky_relu(x)\n",
        "        x = self.dropout4(x)\n",
        "        return x"
      ],
      "metadata": {
        "execution": {
          "iopub.status.busy": "2024-05-24T19:24:28.946814Z",
          "iopub.execute_input": "2024-05-24T19:24:28.947189Z",
          "iopub.status.idle": "2024-05-24T19:24:28.958477Z",
          "shell.execute_reply.started": "2024-05-24T19:24:28.947158Z",
          "shell.execute_reply": "2024-05-24T19:24:28.957523Z"
        },
        "trusted": true,
        "id": "HWdu1Lkog93s"
      },
      "execution_count": null,
      "outputs": []
    },
    {
      "cell_type": "code",
      "source": [
        "class CrimeModelLSTM(nn.Module):\n",
        "    def __init__(self):\n",
        "        super(CrimeModelLSTM, self).__init__()\n",
        "        self.lstm1 = nn.LSTM(1, 8, batch_first=True, bidirectional=False)\n",
        "        self.lstm2 = nn.LSTM(8, 8, batch_first=True, bidirectional=False)\n",
        "        self.fc = nn.Linear(8, 4)\n",
        "        self.dropout = nn.Dropout(0.2)\n",
        "\n",
        "    def forward(self, x):\n",
        "        x, _ = self.lstm1(x)\n",
        "        x, _ = self.lstm2(x)\n",
        "        x = x[:, -1, :]\n",
        "        x = self.fc(x)\n",
        "        x = self.dropout(x)\n",
        "        return x"
      ],
      "metadata": {
        "execution": {
          "iopub.status.busy": "2024-05-24T19:24:30.991925Z",
          "iopub.execute_input": "2024-05-24T19:24:30.992617Z",
          "iopub.status.idle": "2024-05-24T19:24:30.999676Z",
          "shell.execute_reply.started": "2024-05-24T19:24:30.992585Z",
          "shell.execute_reply": "2024-05-24T19:24:30.998696Z"
        },
        "trusted": true,
        "id": "OX0wyU5Mg93t"
      },
      "execution_count": null,
      "outputs": []
    },
    {
      "cell_type": "code",
      "source": [
        "class CrimeModel(nn.Module):\n",
        "    def __init__(self):\n",
        "        super(CrimeModel, self).__init__()\n",
        "        self.cnn = CrimeModelCNN()\n",
        "        self.lstm = CrimeModelLSTM()\n",
        "        self.fc = nn.Linear(260, 8)  # Adjust the input size according to your concatenation axis\n",
        "\n",
        "    def forward(self, x):\n",
        "        x_cnn = x\n",
        "        x_lstm = torch.reshape(x, (x.shape[0], RESOLUTION * RESOLUTION, 1))\n",
        "        x_cnn = self.cnn(x_cnn)\n",
        "        x_lstm = self.lstm(x_lstm)\n",
        "        x_combined = torch.cat((x_cnn, x_lstm), dim=1)\n",
        "        x = self.fc(x_combined)\n",
        "#         return F.softmax(x, dim=1)\n",
        "        return x"
      ],
      "metadata": {
        "execution": {
          "iopub.status.busy": "2024-05-24T19:24:31.300344Z",
          "iopub.execute_input": "2024-05-24T19:24:31.300685Z",
          "iopub.status.idle": "2024-05-24T19:24:31.307409Z",
          "shell.execute_reply.started": "2024-05-24T19:24:31.300658Z",
          "shell.execute_reply": "2024-05-24T19:24:31.30656Z"
        },
        "trusted": true,
        "id": "CDeQjJ-Ag93t"
      },
      "execution_count": null,
      "outputs": []
    },
    {
      "cell_type": "code",
      "source": [
        "model = CrimeModel()"
      ],
      "metadata": {
        "execution": {
          "iopub.status.busy": "2024-05-24T19:24:33.063854Z",
          "iopub.execute_input": "2024-05-24T19:24:33.064509Z",
          "iopub.status.idle": "2024-05-24T19:24:33.585868Z",
          "shell.execute_reply.started": "2024-05-24T19:24:33.064476Z",
          "shell.execute_reply": "2024-05-24T19:24:33.584835Z"
        },
        "trusted": true,
        "id": "NI_xP635g93t"
      },
      "execution_count": null,
      "outputs": []
    },
    {
      "cell_type": "code",
      "source": [
        "optimizer = optim.Adam(model.parameters(), lr=0.01)\n",
        "criterion = nn.CrossEntropyLoss()"
      ],
      "metadata": {
        "execution": {
          "iopub.status.busy": "2024-05-24T19:24:36.698362Z",
          "iopub.execute_input": "2024-05-24T19:24:36.698996Z",
          "iopub.status.idle": "2024-05-24T19:24:36.703935Z",
          "shell.execute_reply.started": "2024-05-24T19:24:36.698965Z",
          "shell.execute_reply": "2024-05-24T19:24:36.702963Z"
        },
        "trusted": true,
        "id": "L4eimwTqg93t"
      },
      "execution_count": null,
      "outputs": []
    },
    {
      "cell_type": "code",
      "source": [
        "model = nn.DataParallel(model)\n",
        "model.to(device)"
      ],
      "metadata": {
        "execution": {
          "iopub.status.busy": "2024-05-24T19:24:37.09685Z",
          "iopub.execute_input": "2024-05-24T19:24:37.097462Z",
          "iopub.status.idle": "2024-05-24T19:24:37.164181Z",
          "shell.execute_reply.started": "2024-05-24T19:24:37.097432Z",
          "shell.execute_reply": "2024-05-24T19:24:37.163331Z"
        },
        "trusted": true,
        "id": "6uL8JdaYg93t"
      },
      "execution_count": null,
      "outputs": []
    },
    {
      "cell_type": "code",
      "source": [
        "NUM_EPOCHS = 5"
      ],
      "metadata": {
        "execution": {
          "iopub.status.busy": "2024-05-24T19:24:39.561283Z",
          "iopub.execute_input": "2024-05-24T19:24:39.561887Z",
          "iopub.status.idle": "2024-05-24T19:24:39.566073Z",
          "shell.execute_reply.started": "2024-05-24T19:24:39.561857Z",
          "shell.execute_reply": "2024-05-24T19:24:39.565006Z"
        },
        "trusted": true,
        "id": "8nIvr4UZg93t"
      },
      "execution_count": null,
      "outputs": []
    },
    {
      "cell_type": "code",
      "source": [
        "for g in optimizer.param_groups:\n",
        "    g['lr'] = 0.001"
      ],
      "metadata": {
        "execution": {
          "iopub.status.busy": "2024-05-24T19:24:40.018414Z",
          "iopub.execute_input": "2024-05-24T19:24:40.01911Z",
          "iopub.status.idle": "2024-05-24T19:24:40.023133Z",
          "shell.execute_reply.started": "2024-05-24T19:24:40.019082Z",
          "shell.execute_reply": "2024-05-24T19:24:40.022064Z"
        },
        "trusted": true,
        "id": "XL2GVZ6cg93t"
      },
      "execution_count": null,
      "outputs": []
    },
    {
      "cell_type": "code",
      "source": [
        "import torch\n",
        "import torch.nn as nn\n",
        "import matplotlib.pyplot as plt\n",
        "\n",
        "train_loss_history = []\n",
        "train_accuracy_history = []\n",
        "test_loss_history = []\n",
        "test_accuracy_history = []\n",
        "\n",
        "for epoch in range(NUM_EPOCHS):\n",
        "    model.train()\n",
        "    total_correct_train = 0\n",
        "    total_train_loss = 0\n",
        "\n",
        "    print(f\"Epoch : {epoch + 1}...\")\n",
        "\n",
        "    for batch_idx, (data, label) in enumerate(train_loader):\n",
        "        data = data.to(device)\n",
        "        label = label.to(device)\n",
        "\n",
        "        # Ensure label is a 1D tensor of class indices\n",
        "        label = label.squeeze()\n",
        "\n",
        "        preds = model(data)\n",
        "        loss = criterion(preds, label)\n",
        "        optimizer.zero_grad()\n",
        "        loss.backward()\n",
        "        optimizer.step()\n",
        "\n",
        "        total_train_loss += loss.item()\n",
        "        total_correct_train += (preds.argmax(dim=1) == label).sum().item()\n",
        "\n",
        "        if batch_idx % 10 == 0:\n",
        "            print(f\"Loss: {loss.item()}, Batch: {batch_idx + 1}/{len(train_loader)}\", end=\"\\r\")\n",
        "\n",
        "    # Calculate average loss and accuracy for this epoch\n",
        "    avg_train_loss = total_train_loss / len(train_loader)\n",
        "    train_accuracy = total_correct_train / len(train_loader.dataset)\n",
        "\n",
        "    train_loss_history.append(avg_train_loss)\n",
        "    train_accuracy_history.append(train_accuracy)\n",
        "\n",
        "    print(f\"Train Loss: {avg_train_loss:.4f}, Train Accuracy: {train_accuracy:.4f}\")\n",
        "\n",
        "    # Save the model after each epoch\n",
        "    torch.save(model.state_dict(), f\"crime_model_epoch_{epoch + 1}.pth\")\n",
        "\n",
        "    # Testing\n",
        "    model.eval()\n",
        "    total_correct_test = 0\n",
        "    total_test_loss = 0\n",
        "\n",
        "    with torch.no_grad():\n",
        "        for data, label in test_loader:\n",
        "            data = data.to(device)\n",
        "            label = label.to(device)\n",
        "\n",
        "            # Ensure label is a 1D tensor of class indices\n",
        "            label = label.squeeze()\n",
        "\n",
        "            preds = model(data)\n",
        "            loss = criterion(preds, label)\n",
        "\n",
        "            total_test_loss += loss.item()\n",
        "            total_correct_test += (preds.argmax(dim=1) == label).sum().item()\n",
        "\n",
        "    avg_test_loss = total_test_loss / len(test_loader)\n",
        "    test_accuracy = total_correct_test / len(test_loader.dataset)\n",
        "\n",
        "    test_loss_history.append(avg_test_loss)\n",
        "    test_accuracy_history.append(test_accuracy)\n",
        "\n",
        "    print(f\"Test Loss: {avg_test_loss:.4f}, Test Accuracy: {test_accuracy:.4f}\")\n",
        "\n",
        "# Plotting the accuracies\n",
        "plt.figure(figsize=(10, 5))\n",
        "plt.title(\"Training and Test Accuracy\")\n",
        "plt.plot(train_accuracy_history, label=\"Train Accuracy\")\n",
        "plt.plot(test_accuracy_history, label=\"Test Accuracy\")\n",
        "plt.xlabel(\"Epochs\")\n",
        "plt.ylabel(\"Accuracy\")\n",
        "plt.legend()\n",
        "plt.show()\n",
        "\n",
        "plt.figure(figsize=(10, 5))\n",
        "plt.title(\"Training Loss\")\n",
        "plt.plot(train_loss_history, label=\"Train Loss\")\n",
        "plt.xlabel(\"Epochs\")\n",
        "plt.ylabel(\"Loss\")\n",
        "plt.legend()\n",
        "plt.show()\n",
        "\n",
        "plt.figure(figsize=(10, 5))\n",
        "plt.title(\"Test Loss\")\n",
        "plt.plot(test_loss_history, label=\"Test Loss\")\n",
        "plt.xlabel(\"Epochs\")\n",
        "plt.ylabel(\"Loss\")\n",
        "plt.legend()\n",
        "plt.show()"
      ],
      "metadata": {
        "execution": {
          "iopub.status.busy": "2024-05-24T19:24:41.242941Z",
          "iopub.execute_input": "2024-05-24T19:24:41.243805Z",
          "iopub.status.idle": "2024-05-24T19:30:24.214589Z",
          "shell.execute_reply.started": "2024-05-24T19:24:41.24376Z",
          "shell.execute_reply": "2024-05-24T19:30:24.213297Z"
        },
        "trusted": true,
        "id": "Tk4sfTYDg93t"
      },
      "execution_count": null,
      "outputs": []
    },
    {
      "cell_type": "code",
      "source": [
        "plot_randomly_form_dataset_model(test_dataset, model)"
      ],
      "metadata": {
        "execution": {
          "iopub.status.busy": "2024-05-18T17:51:45.40303Z",
          "iopub.execute_input": "2024-05-18T17:51:45.40342Z",
          "iopub.status.idle": "2024-05-18T17:51:47.410148Z",
          "shell.execute_reply.started": "2024-05-18T17:51:45.403393Z",
          "shell.execute_reply": "2024-05-18T17:51:47.409167Z"
        },
        "trusted": true,
        "id": "l0jW3cjrg93u"
      },
      "execution_count": null,
      "outputs": []
    },
    {
      "cell_type": "code",
      "source": [],
      "metadata": {
        "id": "I9ZGHwDIg93u"
      },
      "execution_count": null,
      "outputs": []
    }
  ]
}