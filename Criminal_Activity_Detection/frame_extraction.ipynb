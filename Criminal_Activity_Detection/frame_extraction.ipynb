{
 "cells": [
  {
   "cell_type": "markdown",
   "metadata": {
    "colab_type": "text",
    "id": "view-in-github"
   },
   "source": [
    "<a href=\"https://colab.research.google.com/github/sanchit2843/Videoclassification/blob/master/videodata.ipynb\" target=\"_parent\"><img src=\"https://colab.research.google.com/assets/colab-badge.svg\" alt=\"Open In Colab\"/></a>"
   ]
  },
  {
   "cell_type": "code",
   "execution_count": null,
   "metadata": {
    "colab": {},
    "colab_type": "code",
    "id": "ppO3QcOTLfrE"
   },
   "outputs": [],
   "source": [
    "import os\n",
    "print(os.listdir(\"UCF\"))\n",
    "dataset_path = \"UCF\""
   ]
  },
  {
   "cell_type": "code",
   "execution_count": null,
   "metadata": {},
   "outputs": [],
   "source": [
    "import av\n",
    "print(\"PyAV installed successfully!\")"
   ]
  },
  {
   "cell_type": "code",
   "execution_count": null,
   "metadata": {},
   "outputs": [],
   "source": [
    "import cv2\n",
    "import os\n",
    "import glob\n",
    "\n",
    "def video_to_frames(video_path, out_dir):\n",
    "    \"\"\"Extracts frames from a video and saves them as images.\"\"\"\n",
    "    vidcap = cv2.VideoCapture(video_path)\n",
    "    success, image = vidcap.read()\n",
    "    count = 0\n",
    "\n",
    "    while success:\n",
    "        frame_path = os.path.join(out_dir, f\"{count}.jpg\")\n",
    "        cv2.imwrite(frame_path, image)  # Save frame\n",
    "        success, image = vidcap.read()\n",
    "        count += 1\n",
    "\n",
    "def process_ucf_dataset(dataset_path, output_path):\n",
    "    \"\"\"Recursively finds all videos and extracts frames.\"\"\"\n",
    "    os.makedirs(output_path, exist_ok=True)\n",
    "\n",
    "    # Search for all video files inside the dataset\n",
    "    video_files = glob.glob(os.path.join(dataset_path, \"**/*.mp4\"), recursive=True)\n",
    "\n",
    "    for video in video_files:\n",
    "        # Extract category from folder structure\n",
    "        category_name = os.path.basename(os.path.dirname(video))\n",
    "        class_output_dir = os.path.join(output_path, category_name)\n",
    "\n",
    "        os.makedirs(class_output_dir, exist_ok=True)  # Create folder for frames\n",
    "\n",
    "        print(f\"Processing {video} -> {class_output_dir}\")\n",
    "        video_to_frames(video, class_output_dir)\n",
    "\n",
    "# Example usage\n",
    "dataset_path = \"UCF/anomaly/Anomaly_Dataset/Anomaly_Videos\"\n",
    "output_path = \"/extracted_frames\"\n",
    "\n",
    "process_ucf_dataset(dataset_path, output_path)\n"
   ]
  },
  {
   "cell_type": "code",
   "execution_count": null,
   "metadata": {
    "colab": {},
    "colab_type": "code",
    "id": "kJ_JWODgL3Nh"
   },
   "outputs": [],
   "source": [
    "def extract_frames(video_path):\n",
    "    frames = []\n",
    "    video = av.open(video_path)\n",
    "    for frame in video.decode(0):\n",
    "        yield frame.to_image()"
   ]
  }
 ],
 "metadata": {
  "colab": {
   "collapsed_sections": [],
   "include_colab_link": true,
   "name": "videodata.ipynb",
   "provenance": [],
   "version": "0.3.2"
  },
  "kernelspec": {
   "display_name": "Python 3 (ipykernel)",
   "language": "python",
   "name": "python3"
  },
  "language_info": {
   "codemirror_mode": {
    "name": "ipython",
    "version": 3
   },
   "file_extension": ".py",
   "mimetype": "text/x-python",
   "name": "python",
   "nbconvert_exporter": "python",
   "pygments_lexer": "ipython3",
   "version": "3.12.4"
  }
 },
 "nbformat": 4,
 "nbformat_minor": 4
}
